{
 "cells": [
  {
   "cell_type": "code",
   "execution_count": 52,
   "id": "31c2f617-5fe5-43df-b074-56082321e4af",
   "metadata": {},
   "outputs": [],
   "source": [
    "def transcribeDNA(seq):\n",
    "    '''    \n",
    "    Transcribe a DNA sequence into an mRNA sequence\n",
    "    '''\n",
    "    \n",
    "    trans_dict = {\"A\": \"U\", \"C\": \"G\", \"T\": \"A\", \"G\":\"C\"}\n",
    "    dna_seq = \"\".join([trans_dict[x] for x in seq])\n",
    "    \n",
    "    return(dna_seq[::-1])\n",
    "\n",
    "\n",
    "\n",
    "def translateSeq(seq, frame=1):\n",
    "    '''\n",
    "    translate an mRNA sequence into a peptide\n",
    "    st is the starting nt index, i.e. which reading frame: 0, 1 or 2\n",
    "    '''\n",
    "    \n",
    "    codon_dict = {\"UUU\": \"F\", \"UUC\": \"F\", \"UUA\": \"L\", \"UUG\": \"L\", \"UCU\": \"S\", \"UCC\": \"S\", \"UCA\": \"S\", \"UCG\": \"S\",\n",
    "                  \"UAU\": \"Y\", \"UAC\": \"Y\", \"UAA\": \"*\", \"UAG\": \"*\", \"UGU\": \"C\", \"UGC\": \"C\", \"UGA\": \"*\", \"UGG\": \"W\",\n",
    "                  \"CUU\": \"L\", \"CUC\": \"L\", \"CUA\": \"L\", \"CUG\": \"L\", \"CCU\": \"P\", \"CCC\": \"P\", \"CCA\": \"P\", \"CCG\": \"P\",\n",
    "                  \"CAU\": \"H\", \"CAC\": \"H\", \"CAA\": \"Q\", \"CAG\": \"Q\", \"CGU\": \"R\", \"CGC\": \"R\", \"CGA\": \"R\", \"CGG\": \"R\",\n",
    "                  \"AUU\": \"I\", \"AUC\": \"I\", \"AUA\": \"I\", \"AUG\": \"M\", \"ACU\": \"T\", \"ACC\": \"T\", \"ACA\": \"T\", \"ACG\": \"T\",\n",
    "                  \"AAU\": \"N\", \"AAC\": \"N\", \"AAA\": \"K\", \"AAG\": \"K\", \"AGU\": \"S\", \"AGC\": \"S\", \"AGA\": \"R\", \"AGG\": \"R\",\n",
    "                  \"GUU\": \"V\", \"GUC\": \"V\", \"GUA\": \"V\", \"GUG\": \"V\", \"GCU\": \"A\", \"GCC\": \"A\", \"GCA\": \"A\", \"GCG\": \"A\",\n",
    "                  \"GAU\": \"D\", \"GAC\": \"D\", \"GAA\": \"E\", \"GAG\": \"E\", \"GGU\": \"G\", \"GGC\": \"G\", \"GGA\": \"G\", \"GGG\": \"G\"}\n",
    "\n",
    "    peptide = \"\"\n",
    "    if frame == 1:\n",
    "        fseq = seq\n",
    "    elif frame == 2:\n",
    "        fseq = seq[1:-2]\n",
    "    elif frame == 3:\n",
    "        fseq = seq[2:-1]\n",
    "    \n",
    "    for idx in range(0, len(fseq), 3):\n",
    "        codon = fseq[idx: idx+3]\n",
    "        aa = codon_dict[codon]\n",
    "        if idx != len(fseq) - 3:\n",
    "            if aa == \"*\":\n",
    "                return(peptide + aa)\n",
    "            else:\n",
    "                peptide += aa\n",
    "        else:\n",
    "            peptide += aa\n",
    "    \n",
    "    return(peptide)"
   ]
  },
  {
   "cell_type": "code",
   "execution_count": 54,
   "id": "86e15097-1547-4a93-bcca-c32291c52f04",
   "metadata": {},
   "outputs": [],
   "source": [
    "\n",
    "dna_seq=\"ATGATCCACGATTCCAGGCTTCCCATTCAAAATTGCCGCCATCCAAAGGCTGACTGGGGACGTGTAAGGAGCGTTCGAGAATATACAAAGTCAGATCGAGACACGCCGGTACATTCTATCTGGAACGGGCCGTCGCCGAGACCTTCGCTGTGCTTCTTTAGTAGTTCCTCAATGCCGAATGGGGCATCGGGCAGGTGTAACAACAAGCTTCGTATGAATGTATTTCTAAGTCTGGACTATTCCGTATATGCTGCTTTATTAGTGCGACTATGGCGAGATCATAGGCAATCGTGTCCCATGGGTCAGGACGCGGTAAGGAGTACAACCAGCATCAACTGA\"\n",
    "\n",
    "mrna = transcribeDNA(dna_seq)\n",
    "amino_acid = translateSeq(mrna)"
   ]
  },
  {
   "cell_type": "code",
   "execution_count": 48,
   "id": "f6d27849-4d05-458f-ab88-a69db8bde350",
   "metadata": {},
   "outputs": [
    {
     "data": {
      "text/plain": [
       "'SVDAGCTPYRVLTHGTRLPMISP*'"
      ]
     },
     "execution_count": 48,
     "metadata": {},
     "output_type": "execute_result"
    }
   ],
   "source": [
    "amino_acid"
   ]
  },
  {
   "cell_type": "code",
   "execution_count": null,
   "id": "521cd804-bc4c-47c0-a22e-61b3db90d651",
   "metadata": {},
   "outputs": [],
   "source": []
  }
 ],
 "metadata": {
  "kernelspec": {
   "display_name": "Python 3 (ipykernel)",
   "language": "python",
   "name": "python3"
  },
  "language_info": {
   "codemirror_mode": {
    "name": "ipython",
    "version": 3
   },
   "file_extension": ".py",
   "mimetype": "text/x-python",
   "name": "python",
   "nbconvert_exporter": "python",
   "pygments_lexer": "ipython3",
   "version": "3.11.7"
  }
 },
 "nbformat": 4,
 "nbformat_minor": 5
}
